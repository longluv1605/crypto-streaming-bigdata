{
 "cells": [
  {
   "cell_type": "code",
   "execution_count": 9,
   "metadata": {},
   "outputs": [],
   "source": [
    "import pandas as pd"
   ]
  },
  {
   "cell_type": "code",
   "execution_count": 10,
   "metadata": {},
   "outputs": [],
   "source": [
    "data = pd.read_csv('data/stream_data.csv')\n",
    "\n",
    "data = data[[\n",
    "    'timestamp',\n",
    "    'close'\n",
    "]]\n",
    "def get_bitcoin_data(data, idx):\n",
    "    # response = requests.get('https://api.coindesk.com/v1/bpi/currentprice/BTC.json')\n",
    "    # data = response.json()\n",
    "    # return data['bpi']['USD']['rate']\n",
    "\n",
    "    \n",
    "    data = data.iloc[idx]\n",
    "    return data.to_dict()"
   ]
  },
  {
   "cell_type": "code",
   "execution_count": 11,
   "metadata": {},
   "outputs": [
    {
     "data": {
      "text/plain": [
       "{'timestamp': '2023-05-06 01:20:00', 'close': 29577.73}"
      ]
     },
     "execution_count": 11,
     "metadata": {},
     "output_type": "execute_result"
    }
   ],
   "source": [
    "get_bitcoin_data(data, 0)"
   ]
  },
  {
   "cell_type": "code",
   "execution_count": 12,
   "metadata": {},
   "outputs": [],
   "source": [
    "message = []\n",
    "\n",
    "for idx in range(32):\n",
    "    message.append(get_bitcoin_data(data, idx))"
   ]
  },
  {
   "cell_type": "code",
   "execution_count": 14,
   "metadata": {},
   "outputs": [
    {
     "data": {
      "text/plain": [
       "[{'timestamp': '2023-05-06 01:20:00', 'close': 29577.73},\n",
       " {'timestamp': '2023-05-06 01:21:00', 'close': 29569.94},\n",
       " {'timestamp': '2023-05-06 01:22:00', 'close': 29549.03},\n",
       " {'timestamp': '2023-05-06 01:23:00', 'close': 29539.16},\n",
       " {'timestamp': '2023-05-06 01:24:00', 'close': 29548.34},\n",
       " {'timestamp': '2023-05-06 01:25:00', 'close': 29560.0},\n",
       " {'timestamp': '2023-05-06 01:26:00', 'close': 29563.32},\n",
       " {'timestamp': '2023-05-06 01:27:00', 'close': 29565.41},\n",
       " {'timestamp': '2023-05-06 01:28:00', 'close': 29562.53},\n",
       " {'timestamp': '2023-05-06 01:29:00', 'close': 29563.73},\n",
       " {'timestamp': '2023-05-06 01:30:00', 'close': 29582.66},\n",
       " {'timestamp': '2023-05-06 01:31:00', 'close': 29595.56},\n",
       " {'timestamp': '2023-05-06 01:32:00', 'close': 29601.27},\n",
       " {'timestamp': '2023-05-06 01:33:00', 'close': 29606.69},\n",
       " {'timestamp': '2023-05-06 01:34:00', 'close': 29594.71},\n",
       " {'timestamp': '2023-05-06 01:35:00', 'close': 29601.44},\n",
       " {'timestamp': '2023-05-06 01:36:00', 'close': 29601.44},\n",
       " {'timestamp': '2023-05-06 01:37:00', 'close': 29602.93},\n",
       " {'timestamp': '2023-05-06 01:38:00', 'close': 29607.82},\n",
       " {'timestamp': '2023-05-06 01:39:00', 'close': 29600.0},\n",
       " {'timestamp': '2023-05-06 01:40:00', 'close': 29600.0},\n",
       " {'timestamp': '2023-05-06 01:41:00', 'close': 29591.12},\n",
       " {'timestamp': '2023-05-06 01:42:00', 'close': 29601.14},\n",
       " {'timestamp': '2023-05-06 01:43:00', 'close': 29609.25},\n",
       " {'timestamp': '2023-05-06 01:44:00', 'close': 29610.64},\n",
       " {'timestamp': '2023-05-06 01:45:00', 'close': 29604.37},\n",
       " {'timestamp': '2023-05-06 01:46:00', 'close': 29560.56},\n",
       " {'timestamp': '2023-05-06 01:47:00', 'close': 29557.14},\n",
       " {'timestamp': '2023-05-06 01:48:00', 'close': 29558.22},\n",
       " {'timestamp': '2023-05-06 01:49:00', 'close': 29544.98},\n",
       " {'timestamp': '2023-05-06 01:50:00', 'close': 29527.01},\n",
       " {'timestamp': '2023-05-06 01:51:00', 'close': 29527.0}]"
      ]
     },
     "execution_count": 14,
     "metadata": {},
     "output_type": "execute_result"
    }
   ],
   "source": [
    "message"
   ]
  },
  {
   "cell_type": "code",
   "execution_count": null,
   "metadata": {},
   "outputs": [],
   "source": []
  }
 ],
 "metadata": {
  "kernelspec": {
   "display_name": ".venv",
   "language": "python",
   "name": "python3"
  },
  "language_info": {
   "codemirror_mode": {
    "name": "ipython",
    "version": 3
   },
   "file_extension": ".py",
   "mimetype": "text/x-python",
   "name": "python",
   "nbconvert_exporter": "python",
   "pygments_lexer": "ipython3",
   "version": "3.12.3"
  }
 },
 "nbformat": 4,
 "nbformat_minor": 2
}
