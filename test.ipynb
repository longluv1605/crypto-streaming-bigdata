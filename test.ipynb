{
 "cells": [
  {
   "cell_type": "code",
   "execution_count": 169,
   "metadata": {},
   "outputs": [],
   "source": [
    "import pandas as pd\n",
    "from datetime import datetime, timedelta"
   ]
  },
  {
   "cell_type": "code",
   "execution_count": 170,
   "metadata": {},
   "outputs": [],
   "source": [
    "st = pd.read_csv('data/stream_data.csv')"
   ]
  },
  {
   "cell_type": "code",
   "execution_count": 171,
   "metadata": {},
   "outputs": [],
   "source": [
    "bt = pd.read_csv('data/batch_data.csv')"
   ]
  },
  {
   "cell_type": "code",
   "execution_count": 172,
   "metadata": {},
   "outputs": [],
   "source": [
    "stmin = st.timestamp.min()\n",
    "btmax = bt.timestamp.max()"
   ]
  },
  {
   "cell_type": "code",
   "execution_count": 173,
   "metadata": {},
   "outputs": [
    {
     "data": {
      "text/plain": [
       "('2024-12-07 23:59:00', '2024-12-08 00:00:00')"
      ]
     },
     "execution_count": 173,
     "metadata": {},
     "output_type": "execute_result"
    }
   ],
   "source": [
    "btmax, stmin"
   ]
  },
  {
   "cell_type": "code",
   "execution_count": 174,
   "metadata": {},
   "outputs": [],
   "source": [
    "def get_diff(time):\n",
    "    # Parse the time string into a datetime object\n",
    "    original_time = datetime.strptime(time, '%Y-%m-%d %H:%M:%S')\n",
    "\n",
    "    checkpoint = '2024-11-30 23:59:00'\n",
    "    # Get the current time\n",
    "    current_time = datetime.strptime(checkpoint, '%Y-%m-%d %H:%M:%S')\n",
    "\n",
    "    diff = current_time - original_time\n",
    "    return diff"
   ]
  },
  {
   "cell_type": "code",
   "execution_count": 175,
   "metadata": {},
   "outputs": [],
   "source": [
    "diff_bt = get_diff(btmax)\n",
    "diff_st = get_diff(stmin)"
   ]
  },
  {
   "cell_type": "code",
   "execution_count": 176,
   "metadata": {},
   "outputs": [],
   "source": [
    "def shift_time(time, diff, tag='bt'):\n",
    "    # Parse the time string into a datetime object\n",
    "    original_time = datetime.strptime(time, '%Y-%m-%d %H:%M:%S')\n",
    "    \n",
    "    updated_time = original_time + diff\n",
    "    if tag != 'bt':\n",
    "        updated_time += timedelta(minutes=1)\n",
    "\n",
    "    updated_time_string = updated_time.strftime('%Y-%m-%d %H:%M:%S')\n",
    "    return updated_time_string\n"
   ]
  },
  {
   "cell_type": "code",
   "execution_count": 177,
   "metadata": {},
   "outputs": [],
   "source": [
    "bt['timestamp'] = bt['timestamp'].map(lambda time: shift_time(time, diff_bt, tag='bt'))"
   ]
  },
  {
   "cell_type": "code",
   "execution_count": 178,
   "metadata": {},
   "outputs": [],
   "source": [
    "st['timestamp'] = st['timestamp'].map(lambda time: shift_time(time, diff_st, tag='st'))"
   ]
  },
  {
   "cell_type": "code",
   "execution_count": null,
   "metadata": {},
   "outputs": [],
   "source": [
    "# bt.to_csv('data/batch_data.csv', index=False)\n",
    "# st.to_csv('data/stream_data.csv', index=False)"
   ]
  },
  {
   "cell_type": "code",
   "execution_count": 180,
   "metadata": {},
   "outputs": [
    {
     "data": {
      "text/html": [
       "<div>\n",
       "<style scoped>\n",
       "    .dataframe tbody tr th:only-of-type {\n",
       "        vertical-align: middle;\n",
       "    }\n",
       "\n",
       "    .dataframe tbody tr th {\n",
       "        vertical-align: top;\n",
       "    }\n",
       "\n",
       "    .dataframe thead th {\n",
       "        text-align: right;\n",
       "    }\n",
       "</style>\n",
       "<table border=\"1\" class=\"dataframe\">\n",
       "  <thead>\n",
       "    <tr style=\"text-align: right;\">\n",
       "      <th></th>\n",
       "      <th>timestamp</th>\n",
       "      <th>open</th>\n",
       "      <th>high</th>\n",
       "      <th>low</th>\n",
       "      <th>close</th>\n",
       "      <th>volume</th>\n",
       "    </tr>\n",
       "  </thead>\n",
       "  <tbody>\n",
       "    <tr>\n",
       "      <th>0</th>\n",
       "      <td>2024-10-31 00:00:00</td>\n",
       "      <td>28562.96</td>\n",
       "      <td>28600.00</td>\n",
       "      <td>28557.01</td>\n",
       "      <td>28590.14</td>\n",
       "      <td>74.75617</td>\n",
       "    </tr>\n",
       "    <tr>\n",
       "      <th>1</th>\n",
       "      <td>2024-10-31 00:01:00</td>\n",
       "      <td>28590.15</td>\n",
       "      <td>28599.99</td>\n",
       "      <td>28580.36</td>\n",
       "      <td>28580.36</td>\n",
       "      <td>37.01170</td>\n",
       "    </tr>\n",
       "    <tr>\n",
       "      <th>2</th>\n",
       "      <td>2024-10-31 00:02:00</td>\n",
       "      <td>28580.36</td>\n",
       "      <td>28595.46</td>\n",
       "      <td>28575.00</td>\n",
       "      <td>28577.99</td>\n",
       "      <td>35.82728</td>\n",
       "    </tr>\n",
       "    <tr>\n",
       "      <th>3</th>\n",
       "      <td>2024-10-31 00:03:00</td>\n",
       "      <td>28577.99</td>\n",
       "      <td>28592.99</td>\n",
       "      <td>28575.00</td>\n",
       "      <td>28592.99</td>\n",
       "      <td>42.39685</td>\n",
       "    </tr>\n",
       "    <tr>\n",
       "      <th>4</th>\n",
       "      <td>2024-10-31 00:04:00</td>\n",
       "      <td>28592.98</td>\n",
       "      <td>28595.93</td>\n",
       "      <td>28577.69</td>\n",
       "      <td>28590.62</td>\n",
       "      <td>38.49730</td>\n",
       "    </tr>\n",
       "    <tr>\n",
       "      <th>...</th>\n",
       "      <td>...</td>\n",
       "      <td>...</td>\n",
       "      <td>...</td>\n",
       "      <td>...</td>\n",
       "      <td>...</td>\n",
       "      <td>...</td>\n",
       "    </tr>\n",
       "    <tr>\n",
       "      <th>44635</th>\n",
       "      <td>2024-11-30 23:55:00</td>\n",
       "      <td>29612.04</td>\n",
       "      <td>29622.90</td>\n",
       "      <td>29598.22</td>\n",
       "      <td>29607.77</td>\n",
       "      <td>48.64359</td>\n",
       "    </tr>\n",
       "    <tr>\n",
       "      <th>44636</th>\n",
       "      <td>2024-11-30 23:56:00</td>\n",
       "      <td>29607.78</td>\n",
       "      <td>29610.09</td>\n",
       "      <td>29606.36</td>\n",
       "      <td>29610.08</td>\n",
       "      <td>4.51003</td>\n",
       "    </tr>\n",
       "    <tr>\n",
       "      <th>44637</th>\n",
       "      <td>2024-11-30 23:57:00</td>\n",
       "      <td>29610.09</td>\n",
       "      <td>29630.84</td>\n",
       "      <td>29608.87</td>\n",
       "      <td>29627.81</td>\n",
       "      <td>13.69622</td>\n",
       "    </tr>\n",
       "    <tr>\n",
       "      <th>44638</th>\n",
       "      <td>2024-11-30 23:58:00</td>\n",
       "      <td>29627.81</td>\n",
       "      <td>29639.54</td>\n",
       "      <td>29611.49</td>\n",
       "      <td>29611.50</td>\n",
       "      <td>23.02537</td>\n",
       "    </tr>\n",
       "    <tr>\n",
       "      <th>44639</th>\n",
       "      <td>2024-11-30 23:59:00</td>\n",
       "      <td>29611.49</td>\n",
       "      <td>29625.83</td>\n",
       "      <td>29584.92</td>\n",
       "      <td>29584.92</td>\n",
       "      <td>35.57050</td>\n",
       "    </tr>\n",
       "  </tbody>\n",
       "</table>\n",
       "<p>44640 rows × 6 columns</p>\n",
       "</div>"
      ],
      "text/plain": [
       "                 timestamp      open      high       low     close    volume\n",
       "0      2024-10-31 00:00:00  28562.96  28600.00  28557.01  28590.14  74.75617\n",
       "1      2024-10-31 00:01:00  28590.15  28599.99  28580.36  28580.36  37.01170\n",
       "2      2024-10-31 00:02:00  28580.36  28595.46  28575.00  28577.99  35.82728\n",
       "3      2024-10-31 00:03:00  28577.99  28592.99  28575.00  28592.99  42.39685\n",
       "4      2024-10-31 00:04:00  28592.98  28595.93  28577.69  28590.62  38.49730\n",
       "...                    ...       ...       ...       ...       ...       ...\n",
       "44635  2024-11-30 23:55:00  29612.04  29622.90  29598.22  29607.77  48.64359\n",
       "44636  2024-11-30 23:56:00  29607.78  29610.09  29606.36  29610.08   4.51003\n",
       "44637  2024-11-30 23:57:00  29610.09  29630.84  29608.87  29627.81  13.69622\n",
       "44638  2024-11-30 23:58:00  29627.81  29639.54  29611.49  29611.50  23.02537\n",
       "44639  2024-11-30 23:59:00  29611.49  29625.83  29584.92  29584.92  35.57050\n",
       "\n",
       "[44640 rows x 6 columns]"
      ]
     },
     "execution_count": 180,
     "metadata": {},
     "output_type": "execute_result"
    }
   ],
   "source": [
    "bt"
   ]
  },
  {
   "cell_type": "code",
   "execution_count": 181,
   "metadata": {},
   "outputs": [
    {
     "data": {
      "text/html": [
       "<div>\n",
       "<style scoped>\n",
       "    .dataframe tbody tr th:only-of-type {\n",
       "        vertical-align: middle;\n",
       "    }\n",
       "\n",
       "    .dataframe tbody tr th {\n",
       "        vertical-align: top;\n",
       "    }\n",
       "\n",
       "    .dataframe thead th {\n",
       "        text-align: right;\n",
       "    }\n",
       "</style>\n",
       "<table border=\"1\" class=\"dataframe\">\n",
       "  <thead>\n",
       "    <tr style=\"text-align: right;\">\n",
       "      <th></th>\n",
       "      <th>timestamp</th>\n",
       "      <th>open</th>\n",
       "      <th>high</th>\n",
       "      <th>low</th>\n",
       "      <th>close</th>\n",
       "      <th>volume</th>\n",
       "    </tr>\n",
       "  </thead>\n",
       "  <tbody>\n",
       "    <tr>\n",
       "      <th>0</th>\n",
       "      <td>2024-12-01 00:00:00</td>\n",
       "      <td>29584.92</td>\n",
       "      <td>29587.77</td>\n",
       "      <td>29575.44</td>\n",
       "      <td>29577.73</td>\n",
       "      <td>26.78170</td>\n",
       "    </tr>\n",
       "    <tr>\n",
       "      <th>1</th>\n",
       "      <td>2024-12-01 00:01:00</td>\n",
       "      <td>29577.73</td>\n",
       "      <td>29580.85</td>\n",
       "      <td>29565.24</td>\n",
       "      <td>29569.94</td>\n",
       "      <td>44.94119</td>\n",
       "    </tr>\n",
       "    <tr>\n",
       "      <th>2</th>\n",
       "      <td>2024-12-01 00:02:00</td>\n",
       "      <td>29569.94</td>\n",
       "      <td>29569.96</td>\n",
       "      <td>29539.59</td>\n",
       "      <td>29549.03</td>\n",
       "      <td>60.39912</td>\n",
       "    </tr>\n",
       "    <tr>\n",
       "      <th>3</th>\n",
       "      <td>2024-12-01 00:03:00</td>\n",
       "      <td>29549.03</td>\n",
       "      <td>29550.71</td>\n",
       "      <td>29527.00</td>\n",
       "      <td>29539.16</td>\n",
       "      <td>77.06884</td>\n",
       "    </tr>\n",
       "    <tr>\n",
       "      <th>4</th>\n",
       "      <td>2024-12-01 00:04:00</td>\n",
       "      <td>29539.16</td>\n",
       "      <td>29556.71</td>\n",
       "      <td>29539.16</td>\n",
       "      <td>29548.34</td>\n",
       "      <td>33.71610</td>\n",
       "    </tr>\n",
       "    <tr>\n",
       "      <th>...</th>\n",
       "      <td>...</td>\n",
       "      <td>...</td>\n",
       "      <td>...</td>\n",
       "      <td>...</td>\n",
       "      <td>...</td>\n",
       "      <td>...</td>\n",
       "    </tr>\n",
       "    <tr>\n",
       "      <th>125995</th>\n",
       "      <td>2025-02-26 11:55:00</td>\n",
       "      <td>28896.00</td>\n",
       "      <td>28907.42</td>\n",
       "      <td>28893.03</td>\n",
       "      <td>28907.41</td>\n",
       "      <td>37.74657</td>\n",
       "    </tr>\n",
       "    <tr>\n",
       "      <th>125996</th>\n",
       "      <td>2025-02-26 11:56:00</td>\n",
       "      <td>28907.41</td>\n",
       "      <td>28912.74</td>\n",
       "      <td>28907.41</td>\n",
       "      <td>28908.53</td>\n",
       "      <td>15.89610</td>\n",
       "    </tr>\n",
       "    <tr>\n",
       "      <th>125997</th>\n",
       "      <td>2025-02-26 11:57:00</td>\n",
       "      <td>28908.52</td>\n",
       "      <td>28908.53</td>\n",
       "      <td>28902.48</td>\n",
       "      <td>28902.49</td>\n",
       "      <td>11.52263</td>\n",
       "    </tr>\n",
       "    <tr>\n",
       "      <th>125998</th>\n",
       "      <td>2025-02-26 11:58:00</td>\n",
       "      <td>28902.48</td>\n",
       "      <td>28902.49</td>\n",
       "      <td>28902.48</td>\n",
       "      <td>28902.49</td>\n",
       "      <td>4.77589</td>\n",
       "    </tr>\n",
       "    <tr>\n",
       "      <th>125999</th>\n",
       "      <td>2025-02-26 11:59:00</td>\n",
       "      <td>28902.48</td>\n",
       "      <td>28902.49</td>\n",
       "      <td>28902.48</td>\n",
       "      <td>28902.49</td>\n",
       "      <td>4.68658</td>\n",
       "    </tr>\n",
       "  </tbody>\n",
       "</table>\n",
       "<p>126000 rows × 6 columns</p>\n",
       "</div>"
      ],
      "text/plain": [
       "                  timestamp      open      high       low     close    volume\n",
       "0       2024-12-01 00:00:00  29584.92  29587.77  29575.44  29577.73  26.78170\n",
       "1       2024-12-01 00:01:00  29577.73  29580.85  29565.24  29569.94  44.94119\n",
       "2       2024-12-01 00:02:00  29569.94  29569.96  29539.59  29549.03  60.39912\n",
       "3       2024-12-01 00:03:00  29549.03  29550.71  29527.00  29539.16  77.06884\n",
       "4       2024-12-01 00:04:00  29539.16  29556.71  29539.16  29548.34  33.71610\n",
       "...                     ...       ...       ...       ...       ...       ...\n",
       "125995  2025-02-26 11:55:00  28896.00  28907.42  28893.03  28907.41  37.74657\n",
       "125996  2025-02-26 11:56:00  28907.41  28912.74  28907.41  28908.53  15.89610\n",
       "125997  2025-02-26 11:57:00  28908.52  28908.53  28902.48  28902.49  11.52263\n",
       "125998  2025-02-26 11:58:00  28902.48  28902.49  28902.48  28902.49   4.77589\n",
       "125999  2025-02-26 11:59:00  28902.48  28902.49  28902.48  28902.49   4.68658\n",
       "\n",
       "[126000 rows x 6 columns]"
      ]
     },
     "execution_count": 181,
     "metadata": {},
     "output_type": "execute_result"
    }
   ],
   "source": [
    "st"
   ]
  },
  {
   "cell_type": "code",
   "execution_count": 214,
   "metadata": {},
   "outputs": [],
   "source": [
    "raw = st.iloc[:2].to_dict()"
   ]
  },
  {
   "cell_type": "code",
   "execution_count": 215,
   "metadata": {},
   "outputs": [],
   "source": [
    "import csv"
   ]
  },
  {
   "cell_type": "code",
   "execution_count": 216,
   "metadata": {},
   "outputs": [],
   "source": [
    "# Prepare the header (column names) and rows (data)\n",
    "header = list(raw.keys())\n",
    "rows = [ [raw[col][i] for col in header] for i in range(len(raw['timestamp'])) ]"
   ]
  },
  {
   "cell_type": "code",
   "execution_count": 217,
   "metadata": {},
   "outputs": [
    {
     "data": {
      "text/plain": [
       "['timestamp', 'open', 'high', 'low', 'close', 'volume']"
      ]
     },
     "execution_count": 217,
     "metadata": {},
     "output_type": "execute_result"
    }
   ],
   "source": [
    "header"
   ]
  },
  {
   "cell_type": "code",
   "execution_count": 218,
   "metadata": {},
   "outputs": [
    {
     "data": {
      "text/plain": [
       "[['2024-12-01 00:00:00', 29584.92, 29587.77, 29575.44, 29577.73, 26.7817],\n",
       " ['2024-12-01 00:01:00', 29577.73, 29580.85, 29565.24, 29569.94, 44.94119]]"
      ]
     },
     "execution_count": 218,
     "metadata": {},
     "output_type": "execute_result"
    }
   ],
   "source": [
    "rows"
   ]
  },
  {
   "cell_type": "code",
   "execution_count": 221,
   "metadata": {},
   "outputs": [
    {
     "name": "stdout",
     "output_type": "stream",
     "text": [
      "Data has been written to 'output.csv'\n"
     ]
    }
   ],
   "source": [
    "\n",
    "# Write to CSV\n",
    "with open('output.csv', mode='w') as file:    \n",
    "    # Write the header\n",
    "    file.write(f'{\",\".join(map(str, header))}')\n",
    "    \n",
    "    # Write the rows\n",
    "    for row in rows:\n",
    "        file.write(f\"{','.join(map(str, row))}\\n\")\n",
    "\n",
    "print(\"Data has been written to 'output.csv'\")"
   ]
  }
 ],
 "metadata": {
  "kernelspec": {
   "display_name": ".venv",
   "language": "python",
   "name": "python3"
  },
  "language_info": {
   "codemirror_mode": {
    "name": "ipython",
    "version": 3
   },
   "file_extension": ".py",
   "mimetype": "text/x-python",
   "name": "python",
   "nbconvert_exporter": "python",
   "pygments_lexer": "ipython3",
   "version": "3.12.3"
  }
 },
 "nbformat": 4,
 "nbformat_minor": 2
}
